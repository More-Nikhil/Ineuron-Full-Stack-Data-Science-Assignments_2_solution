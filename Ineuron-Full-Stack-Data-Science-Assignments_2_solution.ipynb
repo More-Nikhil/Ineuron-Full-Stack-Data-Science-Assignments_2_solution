{
  "nbformat": 4,
  "nbformat_minor": 0,
  "metadata": {
    "colab": {
      "provenance": [],
      "collapsed_sections": []
    },
    "kernelspec": {
      "name": "python3",
      "display_name": "Python 3"
    },
    "language_info": {
      "name": "python"
    }
  },
  "cells": [
    {
      "cell_type": "markdown",
      "source": [
        "1.What are the two values of the Boolean data type? How do you write them?\n"
      ],
      "metadata": {
        "id": "yb5Dg0AlqRiD"
      }
    },
    {
      "cell_type": "code",
      "source": [
        "#Ans -  True and False are two values of boolean data type.\n",
        "a = True\n",
        "b = False\n",
        "type(a)\n",
        "type(b)"
      ],
      "metadata": {
        "colab": {
          "base_uri": "https://localhost:8080/"
        },
        "id": "J1U9Panbofyd",
        "outputId": "449c32be-595c-44ac-da23-f5bd26241f38"
      },
      "execution_count": 1,
      "outputs": [
        {
          "output_type": "execute_result",
          "data": {
            "text/plain": [
              "bool"
            ]
          },
          "metadata": {},
          "execution_count": 1
        }
      ]
    },
    {
      "cell_type": "markdown",
      "source": [
        "2. What are the three different types of Boolean operators?\n",
        "\n",
        "Ans - and, or & not are three different types of boolean operators."
      ],
      "metadata": {
        "id": "Ln-_FmZdqlFV"
      }
    },
    {
      "cell_type": "markdown",
      "source": [
        "#3. Make a list of each Boolean operator's truth tables (i.e. every possible combination of Boolean values for the operator and what it evaluate).\n",
        "\n",
        "#Ans - \n",
        "##Truth table for and -\n",
        "\n",
        "True and True is True \n",
        "\n",
        "True and False is False\n",
        "\n",
        "False and True is False\n",
        "\n",
        "False and False is False\n",
        "\n",
        "##Truth table for or -\n",
        "\n",
        "True or True is True\n",
        "\n",
        "True or False is True\n",
        "\n",
        "False or True is True\n",
        "\n",
        "False or False is False\n",
        "\n",
        "##Truth table for not -\n",
        "\n",
        "not True is False\n",
        "\n",
        "not False is True\n",
        "\n"
      ],
      "metadata": {
        "id": "wxYy3GObqOZD"
      }
    },
    {
      "cell_type": "markdown",
      "source": [
        "##4. What are the values of the following expressions?\n",
        "\n",
        "(5 > 4) and (3 == 5)\n",
        "\n",
        "not (5 > 4)\n",
        "\n",
        "(5 > 4) or (3 == 5)\n",
        "\n",
        "not ((5 > 4) or (3 == 5))\n",
        "\n",
        "(True and True) and (True == False)\n",
        "\n",
        "(not False) or (not True)\n",
        "\n"
      ],
      "metadata": {
        "id": "zY6Car-VsVas"
      }
    },
    {
      "cell_type": "code",
      "source": [
        "print((5 > 4) and (3 == 5))\n",
        "print(not (5 > 4))\n",
        "print((5 > 4) or (3 == 5))\n",
        "print(not ((5 > 4) or (3 == 5)))\n",
        "print((True and True) and (True == False))\n",
        "print((not False) or (not True))"
      ],
      "metadata": {
        "colab": {
          "base_uri": "https://localhost:8080/"
        },
        "id": "9YQcvmP1sL8f",
        "outputId": "6e647b88-db38-4494-aa48-52ab5867634b"
      },
      "execution_count": 3,
      "outputs": [
        {
          "output_type": "stream",
          "name": "stdout",
          "text": [
            "False\n",
            "False\n",
            "True\n",
            "False\n",
            "False\n",
            "True\n"
          ]
        }
      ]
    },
    {
      "cell_type": "markdown",
      "source": [
        "##5. What are the six comparison operators?\n",
        "\n",
        "##ANS -  \n",
        "\n",
        "equal to (==)\n",
        "\n",
        "not equal to (!=)\n",
        "\n",
        "greater than (>)\n",
        "\n",
        "less than (<)\n",
        "\n",
        "Greater than equal to (>=)\n",
        "\n",
        "Less than equal to (<=)"
      ],
      "metadata": {
        "id": "ir5mlIJSszBF"
      }
    },
    {
      "cell_type": "markdown",
      "source": [
        "##6. How do you tell the difference between the equal to and assignment operators? Describe a condition and when you would use one.\n",
        "\n",
        "##ANS - Equal to (==) operator is compariason operatopr who compares the value and equal(=) is assignment operator which stores the assign value "
      ],
      "metadata": {
        "id": "Zbbw257Ntidk"
      }
    },
    {
      "cell_type": "code",
      "source": [
        "#EQUAL TO OPERATOR\n",
        "if (7==8):\n",
        "  print(True)\n",
        "else:\n",
        "  print(False)\n",
        "\n",
        "#ASSIGNMENT OPERATOR\n",
        "\n",
        "a = 6\n",
        "b = 7\n",
        "if (a<b):\n",
        "  print(f\"{a} is less than {b}\")\n",
        "else:\n",
        "  print(f\"{a} is greater than {b}\")\n",
        "\n",
        "c= 14\n",
        "print(c)"
      ],
      "metadata": {
        "colab": {
          "base_uri": "https://localhost:8080/"
        },
        "id": "uoA3FZAoqrFR",
        "outputId": "00c347ce-9230-44f4-e5b0-830725bca650"
      },
      "execution_count": 6,
      "outputs": [
        {
          "output_type": "stream",
          "name": "stdout",
          "text": [
            "False\n",
            "6 is less than 7\n",
            "14\n"
          ]
        }
      ]
    },
    {
      "cell_type": "markdown",
      "source": [
        "##7. Identify the three blocks in this code:\n",
        "spam = 0\n",
        "\n",
        "if spam == 10:\n",
        "\n",
        "print('eggs')\n",
        "\n",
        "if spam > 5:\n",
        "\n",
        "print('bacon')\n",
        "\n",
        "else:\n",
        "\n",
        "print('ham')\n",
        "\n",
        "print('spam')\n",
        "\n",
        "print('spam')\n"
      ],
      "metadata": {
        "id": "xUAg6lqyvkNN"
      }
    },
    {
      "cell_type": "code",
      "source": [
        "spam = 0\n",
        "if spam == 10:\n",
        " print('eggs')      #Block 1 -Indentation error - Space us missing after if statement\n",
        "if spam > 5:\n",
        " print('bacon')     #Block 1 -Indentation error - Space us missing after if statement\n",
        "else:\n",
        " print('ham')       #Block 1 -Indentation error - Space us missing after else statement\n",
        " print('spam')      \n",
        " print('spam')     "
      ],
      "metadata": {
        "colab": {
          "base_uri": "https://localhost:8080/"
        },
        "id": "6vF31jhXvnEF",
        "outputId": "54e748e2-a88e-4df9-9c9a-07f0ba62a1ea"
      },
      "execution_count": 9,
      "outputs": [
        {
          "output_type": "stream",
          "name": "stdout",
          "text": [
            "ham\n",
            "spam\n",
            "spam\n"
          ]
        }
      ]
    },
    {
      "cell_type": "markdown",
      "source": [
        "##8. Write code that prints Hello if 1 is stored in spam, prints Howdy if 2 is stored in spam, and prints Greetings! if anything else is stored in spam."
      ],
      "metadata": {
        "id": "OnTEmw4bwTjW"
      }
    },
    {
      "cell_type": "code",
      "source": [
        "spam = int(input(\"Enter a number: \"))\n",
        "if spam == 1:\n",
        "  print(\"Hello\")\n",
        "elif spam == 2:\n",
        "  print(\"Howdy\")\n",
        "else:\n",
        "  print(\"Greetings!\")"
      ],
      "metadata": {
        "colab": {
          "base_uri": "https://localhost:8080/"
        },
        "id": "poTH5yQQwVnT",
        "outputId": "4f53915a-0204-4e78-a1d1-bdcb0a28a527"
      },
      "execution_count": 14,
      "outputs": [
        {
          "output_type": "stream",
          "name": "stdout",
          "text": [
            "Enter a number: 6\n",
            "Greetings!\n"
          ]
        }
      ]
    },
    {
      "cell_type": "markdown",
      "source": [
        "##9.If your programme is stuck in an endless loop, what keys you’ll press?\n",
        "\n",
        "## Ans -  If my programme is stuck in an endless loop i will press ctr+c"
      ],
      "metadata": {
        "id": "e6ug40HOxWEO"
      }
    },
    {
      "cell_type": "markdown",
      "source": [
        "##10. How can you tell the difference between break and continue?\n",
        "\n",
        "## Ans -  break stop the loop at that time and continue command continues the loop till it satisfy condition or break it. "
      ],
      "metadata": {
        "id": "KebTSvWixpf-"
      }
    },
    {
      "cell_type": "code",
      "source": [
        "#for break command\n",
        "for i in range(10):\n",
        "  if i == 6:\n",
        "    break\n",
        "  print(i)\n",
        "\n",
        "print(\"--------------------------------------------------\")\n",
        "# for continue command\n",
        "for i in range(10):\n",
        "  if i==6:\n",
        "    continue\n",
        "  print(i)"
      ],
      "metadata": {
        "colab": {
          "base_uri": "https://localhost:8080/"
        },
        "id": "b35Mv31Bx-Kl",
        "outputId": "bded46c2-5c69-42df-ab2b-aad83c4cedfe"
      },
      "execution_count": 23,
      "outputs": [
        {
          "output_type": "stream",
          "name": "stdout",
          "text": [
            "0\n",
            "1\n",
            "2\n",
            "3\n",
            "4\n",
            "5\n",
            "--------------------------------------------------\n",
            "0\n",
            "1\n",
            "2\n",
            "3\n",
            "4\n",
            "5\n",
            "7\n",
            "8\n",
            "9\n"
          ]
        }
      ]
    },
    {
      "cell_type": "markdown",
      "source": [
        "##11. In a for loop, what is the difference between range(10), range(0, 10), and range(0, 10, 1)?\n",
        "\n",
        "## Ans - Basically in all three conditions are same. (Check below programm)\n",
        "\n",
        "##In range(10):By default range starts with 0 goes till 9 (Excludes 10) \n",
        "\n",
        "## In range(0,10): Here we are providing starting value as 0 and same it goes till 9 (excludes 10)\n",
        "\n",
        "## In range(0,10,1): Here providing starting value as 0 and jump value as 1. Value jump by 1 and it goes till 9 (exclues 10)"
      ],
      "metadata": {
        "id": "OG8MCNMizD1-"
      }
    },
    {
      "cell_type": "code",
      "source": [
        "for i in range(10):\n",
        "  print(i)\n",
        "print(\"-------------------------------------------------------------------------\")\n",
        "\n",
        "for i in range(0,10):\n",
        "  print(i)\n",
        "print(\"--------------------------------------------------------------------------\")\n",
        "\n",
        "for i in range(0,10,1):\n",
        "  print(i)"
      ],
      "metadata": {
        "colab": {
          "base_uri": "https://localhost:8080/"
        },
        "id": "BJwFu4rPxkNr",
        "outputId": "92457050-dc32-4f93-b5ed-63de7100f073"
      },
      "execution_count": 24,
      "outputs": [
        {
          "output_type": "stream",
          "name": "stdout",
          "text": [
            "0\n",
            "1\n",
            "2\n",
            "3\n",
            "4\n",
            "5\n",
            "6\n",
            "7\n",
            "8\n",
            "9\n",
            "-------------------------------------------------------------------------\n",
            "0\n",
            "1\n",
            "2\n",
            "3\n",
            "4\n",
            "5\n",
            "6\n",
            "7\n",
            "8\n",
            "9\n",
            "--------------------------------------------------------------------------\n",
            "0\n",
            "1\n",
            "2\n",
            "3\n",
            "4\n",
            "5\n",
            "6\n",
            "7\n",
            "8\n",
            "9\n"
          ]
        }
      ]
    },
    {
      "cell_type": "markdown",
      "source": [
        "##12. Write a short program that prints the numbers 1 to 10 using a for loop. Then write an equivalent program that prints the numbers 1 to 10 using a while loop."
      ],
      "metadata": {
        "id": "D_2pozsx1fpP"
      }
    },
    {
      "cell_type": "code",
      "source": [
        "#using for loop\n",
        "for i in range(1,11):\n",
        "  print(i)"
      ],
      "metadata": {
        "colab": {
          "base_uri": "https://localhost:8080/"
        },
        "id": "QAL1tpOv1lTR",
        "outputId": "e3e95e44-efe8-40eb-b67c-7f3bc0665c91"
      },
      "execution_count": 25,
      "outputs": [
        {
          "output_type": "stream",
          "name": "stdout",
          "text": [
            "1\n",
            "2\n",
            "3\n",
            "4\n",
            "5\n",
            "6\n",
            "7\n",
            "8\n",
            "9\n",
            "10\n"
          ]
        }
      ]
    },
    {
      "cell_type": "code",
      "source": [
        "#using while loop\n",
        "a=1\n",
        "while a<=10:\n",
        "  print(a)\n",
        "  a=a+1"
      ],
      "metadata": {
        "colab": {
          "base_uri": "https://localhost:8080/"
        },
        "id": "sKsUs00V1xNu",
        "outputId": "9d40b1a9-6062-44fe-ab32-b7879947cc9a"
      },
      "execution_count": 28,
      "outputs": [
        {
          "output_type": "stream",
          "name": "stdout",
          "text": [
            "1\n",
            "2\n",
            "3\n",
            "4\n",
            "5\n",
            "6\n",
            "7\n",
            "8\n",
            "9\n",
            "10\n"
          ]
        }
      ]
    },
    {
      "cell_type": "markdown",
      "source": [
        "##13. If you had a function named bacon() inside a module named spam, how would you call it after importing spam?\n",
        "\n",
        "## Ans -  by using spam.bacon()"
      ],
      "metadata": {
        "id": "Sx7FSwaT2efP"
      }
    }
  ]
}